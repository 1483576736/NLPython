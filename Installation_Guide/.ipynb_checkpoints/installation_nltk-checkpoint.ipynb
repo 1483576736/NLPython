{
 "cells": [
  {
   "cell_type": "markdown",
   "metadata": {
    "collapsed": true,
    "deletable": true,
    "editable": true
   },
   "source": [
    "# Setup Python, pip & NLTK \n",
    "\n",
    "# Installation and setup NLTK enviroment on Linux Ubuntu 14.04 (recommended way)"
   ]
  },
  {
   "cell_type": "code",
   "execution_count": 1,
   "metadata": {
    "collapsed": false
   },
   "outputs": [
    {
     "data": {
      "text/plain": [
       "sys.version_info(major=2, minor=7, micro=6, releaselevel='final', serial=0)"
      ]
     },
     "execution_count": 1,
     "metadata": {},
     "output_type": "execute_result"
    }
   ],
   "source": [
    "import sys\n",
    "sys.version\n",
    "sys.version_info # python version is 2.7.6"
   ]
  },
  {
   "cell_type": "raw",
   "metadata": {},
   "source": [
    "On Linux ubuntu 14.04 install pip and setup tools\n",
    "\n",
    "What is pip?\n",
    "pip is a package management system used to install and manage software packages written in Python\n",
    "\n",
    "On ubuntu 14.04 pyhton 2.7.X has been already installed so you can confirm pyhton version by executing following command on your terminal\n",
    "\n",
    "Open your system's terminal and execute following command\n",
    "\n",
    "$ python -V\n",
    "Python 2.7.6\n"
   ]
  },
  {
   "cell_type": "raw",
   "metadata": {},
   "source": [
    "After confirming version of python next step is to install pip and setuptools\n",
    "\n",
    "Open your system's terminal and execute following command\n",
    "\n",
    "$ sudo apt-get install -y python-pip\n",
    "$ sudo pip install -U pip\n",
    "$ sudo pip install setuptools==33.1.1\n",
    "\n",
    "Confirm pip has been install successfully.\n",
    "\n",
    "$ pip -V\n",
    "pip 9.0.1 from /usr/local/lib/python2.7/dist-packages (python 2.7)\n"
   ]
  },
  {
   "cell_type": "raw",
   "metadata": {},
   "source": [
    "Next step is to install nltk package and download nltk data\n",
    "\n",
    "on terminal execute following command\n",
    "$ sudo pip install nltk\n",
    "$ python\n",
    "\n",
    "After this now you are inside the python shell and check your nltk package install properly or not\n",
    "$ python\n",
    "Python 2.7.6 (default, Oct 26 2016, 20:30:19) \n",
    "[GCC 4.8.4] on linux2\n",
    "Type \"help\", \"copyright\", \"credits\" or \"license\" for more information.\n",
    ">>>import nltk\n",
    ">>>nltk.download()\n",
    "\n",
    "Define the path from dialog box where you want to download nltk data and click on \"Download\" option.\n",
    "\n",
    "Download process may take long time.\n",
    "you can refer the diagram 1.4 given in chapter no 1"
   ]
  },
  {
   "cell_type": "code",
   "execution_count": null,
   "metadata": {
    "collapsed": true
   },
   "outputs": [],
   "source": []
  }
 ],
 "metadata": {
  "kernelspec": {
   "display_name": "Python 2",
   "language": "python",
   "name": "python2"
  },
  "language_info": {
   "codemirror_mode": {
    "name": "ipython",
    "version": 2
   },
   "file_extension": ".py",
   "mimetype": "text/x-python",
   "name": "python",
   "nbconvert_exporter": "python",
   "pygments_lexer": "ipython2",
   "version": "2.7.6"
  }
 },
 "nbformat": 4,
 "nbformat_minor": 0
}
