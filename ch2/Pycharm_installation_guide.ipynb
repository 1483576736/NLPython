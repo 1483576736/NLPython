{
 "cells": [
  {
   "cell_type": "markdown",
   "metadata": {
    "collapsed": true,
    "deletable": true,
    "editable": true
   },
   "source": [
    "# How to install pycharm community edition on linux"
   ]
  },
  {
   "cell_type": "markdown",
   "metadata": {},
   "source": [
    "Download pycharm latest version using this url: https://www.jetbrains.com/pycharm/download/#section=linux"
   ]
  },
  {
   "cell_type": "markdown",
   "metadata": {},
   "source": [
    "The downloaded file is tar.gz file now follow the below step to install it.Execute all the following command on terminal\n",
    "\n",
    "Untar the file in /opt path\n",
    "\n",
    "    $ tar xvzf ~/Downloads/pycharm-community*.tar.gz -C /opt\n",
    "    \n",
    "    \n",
    "    \n",
    "Change ownership if only need\n",
    "\n",
    "    $ sudo chown -R jalaj:jalaj  /opt/pycharm-community-2016.3.2\n",
    "\n",
    "\n",
    "\n",
    "Jump to the following path\n",
    "\n",
    "    $ cd /opt/pycharm-community-2016.3.2/bin\n",
    " \n",
    " \n",
    " \n",
    "Now you can see the pycharm.sh\n",
    "\n",
    "    $ sh ./pycharm.sh or sudo sh./pycharm.sh\n",
    "\n",
    "\n",
    "If you want to make desktop entry for pycahrm so the pycharm can be lunched from luncher then follow the steps  \n",
    "given below\n",
    "\n",
    "        Start PyCharm.\n",
    "        \n",
    "        From the Tools menu, select \"Create Desktop Entry...\"\n",
    "        \n",
    "        Tick the corresponding box if you want the launcher for all users.\n",
    "        \n",
    "        If you selected \"Create entry for all users\", you will be asked for your password.\n",
    "        \n",
    "        A green message bubble should appear informing you that it was successful.\n",
    "        \n",
    "        You should then be able to find PyCharm in the Unity Dash or pin it to the launcher.\n",
    "        "
   ]
  },
  {
   "cell_type": "code",
   "execution_count": null,
   "metadata": {
    "collapsed": true
   },
   "outputs": [],
   "source": []
  }
 ],
 "metadata": {
  "kernelspec": {
   "display_name": "Python 2",
   "language": "python",
   "name": "python2"
  },
  "language_info": {
   "codemirror_mode": {
    "name": "ipython",
    "version": 2
   },
   "file_extension": ".py",
   "mimetype": "text/x-python",
   "name": "python",
   "nbconvert_exporter": "python",
   "pygments_lexer": "ipython2",
   "version": "2.7.6"
  }
 },
 "nbformat": 4,
 "nbformat_minor": 0
}
